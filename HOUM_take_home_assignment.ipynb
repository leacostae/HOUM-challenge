{
  "nbformat": 4,
  "nbformat_minor": 0,
  "metadata": {
    "colab": {
      "name": "HOUM take home assignment.ipynb",
      "provenance": [],
      "collapsed_sections": []
    },
    "kernelspec": {
      "name": "python3",
      "display_name": "Python 3"
    },
    "language_info": {
      "name": "python"
    }
  },
  "cells": [
    {
      "cell_type": "markdown",
      "source": [
        ""
      ],
      "metadata": {
        "id": "Dfrk_0LGp0-r"
      }
    },
    {
      "cell_type": "markdown",
      "source": [
        "# HOUM Challenge"
      ],
      "metadata": {
        "id": "2pWP-dtup2qV"
      }
    },
    {
      "cell_type": "code",
      "source": [
        "from pathlib import Path\n",
        "\n",
        "# Reemplazar con ruta del archivo (en caso de que notebook no se ejecute en el\n",
        "# mismo directorio)\n",
        "RESOURCE_DIR = Path(\".\")\n",
        "PROPERTIES_DATA = RESOURCE_DIR / \"properties.csv\"\n",
        "USERS_DATA = RESOURCE_DIR / \"users.csv\"\n",
        "VISITS_DATA = RESOURCE_DIR / \"visits.csv\"\n",
        "\n",
        "assert PROPERTIES_DATA.exists()\n",
        "assert USERS_DATA.exists()\n",
        "assert VISITS_DATA.exists()"
      ],
      "metadata": {
        "id": "-rubh6TmqFMO"
      },
      "execution_count": 57,
      "outputs": []
    },
    {
      "cell_type": "markdown",
      "source": [
        "## Supuestos\n",
        "\n",
        "Para simplificar el desarrollo de la tarea se tomarán los siguientes supuestos:\n",
        "\n",
        "* Para el periodo de análisis de interés, se asumirá que los registros (`*.csv`) pueden cargarse en memoria (en caso contrario no cambia mucho el algoritmo, pero hay que entrar a usar disco y cargas temporales de datos)\n",
        "* Como hay suficiente RAM para cargar los datos, se utilizará pandas. En la vida real, uno tendría acceso a un data warehouse, donde se podrían computar los valores de interés."
      ],
      "metadata": {
        "id": "jBfVZdyWrYVo"
      }
    },
    {
      "cell_type": "code",
      "source": [
        "import pandas as pd\n",
        "\n",
        "\n",
        "visits = pd.read_csv(VISITS_DATA)\n",
        "visits.head()"
      ],
      "metadata": {
        "colab": {
          "base_uri": "https://localhost:8080/",
          "height": 206
        },
        "id": "uWKGq3ZfqzSu",
        "outputId": "59cf3965-b46a-40ba-fca1-d2b0b983b959"
      },
      "execution_count": 58,
      "outputs": [
        {
          "output_type": "execute_result",
          "data": {
            "text/plain": [
              "   scheduled_id  property_id                 begin_date  \\\n",
              "0        169548            1  2022-01-13T10:00:00-03:00   \n",
              "1        184763            1  2022-01-26T18:00:00-03:00   \n",
              "2        186092            1  2022-01-28T12:00:00-03:00   \n",
              "3        182497            1  2022-01-23T11:00:00-03:00   \n",
              "4        182396            1  2022-01-23T10:00:00-03:00   \n",
              "\n",
              "                    end_date type_visit     status  \n",
              "0  2022-01-13T12:00:00-03:00      Visit  Cancelled  \n",
              "1  2022-01-26T20:00:00-03:00      Visit  Cancelled  \n",
              "2  2022-01-28T14:00:00-03:00      Visit  Cancelled  \n",
              "3  2022-01-23T13:00:00-03:00      Visit  Cancelled  \n",
              "4  2022-01-23T12:00:00-03:00      Visit  Cancelled  "
            ],
            "text/html": [
              "\n",
              "  <div id=\"df-b775595c-ccb2-476d-bbff-d21eb1ddf3a4\">\n",
              "    <div class=\"colab-df-container\">\n",
              "      <div>\n",
              "<style scoped>\n",
              "    .dataframe tbody tr th:only-of-type {\n",
              "        vertical-align: middle;\n",
              "    }\n",
              "\n",
              "    .dataframe tbody tr th {\n",
              "        vertical-align: top;\n",
              "    }\n",
              "\n",
              "    .dataframe thead th {\n",
              "        text-align: right;\n",
              "    }\n",
              "</style>\n",
              "<table border=\"1\" class=\"dataframe\">\n",
              "  <thead>\n",
              "    <tr style=\"text-align: right;\">\n",
              "      <th></th>\n",
              "      <th>scheduled_id</th>\n",
              "      <th>property_id</th>\n",
              "      <th>begin_date</th>\n",
              "      <th>end_date</th>\n",
              "      <th>type_visit</th>\n",
              "      <th>status</th>\n",
              "    </tr>\n",
              "  </thead>\n",
              "  <tbody>\n",
              "    <tr>\n",
              "      <th>0</th>\n",
              "      <td>169548</td>\n",
              "      <td>1</td>\n",
              "      <td>2022-01-13T10:00:00-03:00</td>\n",
              "      <td>2022-01-13T12:00:00-03:00</td>\n",
              "      <td>Visit</td>\n",
              "      <td>Cancelled</td>\n",
              "    </tr>\n",
              "    <tr>\n",
              "      <th>1</th>\n",
              "      <td>184763</td>\n",
              "      <td>1</td>\n",
              "      <td>2022-01-26T18:00:00-03:00</td>\n",
              "      <td>2022-01-26T20:00:00-03:00</td>\n",
              "      <td>Visit</td>\n",
              "      <td>Cancelled</td>\n",
              "    </tr>\n",
              "    <tr>\n",
              "      <th>2</th>\n",
              "      <td>186092</td>\n",
              "      <td>1</td>\n",
              "      <td>2022-01-28T12:00:00-03:00</td>\n",
              "      <td>2022-01-28T14:00:00-03:00</td>\n",
              "      <td>Visit</td>\n",
              "      <td>Cancelled</td>\n",
              "    </tr>\n",
              "    <tr>\n",
              "      <th>3</th>\n",
              "      <td>182497</td>\n",
              "      <td>1</td>\n",
              "      <td>2022-01-23T11:00:00-03:00</td>\n",
              "      <td>2022-01-23T13:00:00-03:00</td>\n",
              "      <td>Visit</td>\n",
              "      <td>Cancelled</td>\n",
              "    </tr>\n",
              "    <tr>\n",
              "      <th>4</th>\n",
              "      <td>182396</td>\n",
              "      <td>1</td>\n",
              "      <td>2022-01-23T10:00:00-03:00</td>\n",
              "      <td>2022-01-23T12:00:00-03:00</td>\n",
              "      <td>Visit</td>\n",
              "      <td>Cancelled</td>\n",
              "    </tr>\n",
              "  </tbody>\n",
              "</table>\n",
              "</div>\n",
              "      <button class=\"colab-df-convert\" onclick=\"convertToInteractive('df-b775595c-ccb2-476d-bbff-d21eb1ddf3a4')\"\n",
              "              title=\"Convert this dataframe to an interactive table.\"\n",
              "              style=\"display:none;\">\n",
              "        \n",
              "  <svg xmlns=\"http://www.w3.org/2000/svg\" height=\"24px\"viewBox=\"0 0 24 24\"\n",
              "       width=\"24px\">\n",
              "    <path d=\"M0 0h24v24H0V0z\" fill=\"none\"/>\n",
              "    <path d=\"M18.56 5.44l.94 2.06.94-2.06 2.06-.94-2.06-.94-.94-2.06-.94 2.06-2.06.94zm-11 1L8.5 8.5l.94-2.06 2.06-.94-2.06-.94L8.5 2.5l-.94 2.06-2.06.94zm10 10l.94 2.06.94-2.06 2.06-.94-2.06-.94-.94-2.06-.94 2.06-2.06.94z\"/><path d=\"M17.41 7.96l-1.37-1.37c-.4-.4-.92-.59-1.43-.59-.52 0-1.04.2-1.43.59L10.3 9.45l-7.72 7.72c-.78.78-.78 2.05 0 2.83L4 21.41c.39.39.9.59 1.41.59.51 0 1.02-.2 1.41-.59l7.78-7.78 2.81-2.81c.8-.78.8-2.07 0-2.86zM5.41 20L4 18.59l7.72-7.72 1.47 1.35L5.41 20z\"/>\n",
              "  </svg>\n",
              "      </button>\n",
              "      \n",
              "  <style>\n",
              "    .colab-df-container {\n",
              "      display:flex;\n",
              "      flex-wrap:wrap;\n",
              "      gap: 12px;\n",
              "    }\n",
              "\n",
              "    .colab-df-convert {\n",
              "      background-color: #E8F0FE;\n",
              "      border: none;\n",
              "      border-radius: 50%;\n",
              "      cursor: pointer;\n",
              "      display: none;\n",
              "      fill: #1967D2;\n",
              "      height: 32px;\n",
              "      padding: 0 0 0 0;\n",
              "      width: 32px;\n",
              "    }\n",
              "\n",
              "    .colab-df-convert:hover {\n",
              "      background-color: #E2EBFA;\n",
              "      box-shadow: 0px 1px 2px rgba(60, 64, 67, 0.3), 0px 1px 3px 1px rgba(60, 64, 67, 0.15);\n",
              "      fill: #174EA6;\n",
              "    }\n",
              "\n",
              "    [theme=dark] .colab-df-convert {\n",
              "      background-color: #3B4455;\n",
              "      fill: #D2E3FC;\n",
              "    }\n",
              "\n",
              "    [theme=dark] .colab-df-convert:hover {\n",
              "      background-color: #434B5C;\n",
              "      box-shadow: 0px 1px 3px 1px rgba(0, 0, 0, 0.15);\n",
              "      filter: drop-shadow(0px 1px 2px rgba(0, 0, 0, 0.3));\n",
              "      fill: #FFFFFF;\n",
              "    }\n",
              "  </style>\n",
              "\n",
              "      <script>\n",
              "        const buttonEl =\n",
              "          document.querySelector('#df-b775595c-ccb2-476d-bbff-d21eb1ddf3a4 button.colab-df-convert');\n",
              "        buttonEl.style.display =\n",
              "          google.colab.kernel.accessAllowed ? 'block' : 'none';\n",
              "\n",
              "        async function convertToInteractive(key) {\n",
              "          const element = document.querySelector('#df-b775595c-ccb2-476d-bbff-d21eb1ddf3a4');\n",
              "          const dataTable =\n",
              "            await google.colab.kernel.invokeFunction('convertToInteractive',\n",
              "                                                     [key], {});\n",
              "          if (!dataTable) return;\n",
              "\n",
              "          const docLinkHtml = 'Like what you see? Visit the ' +\n",
              "            '<a target=\"_blank\" href=https://colab.research.google.com/notebooks/data_table.ipynb>data table notebook</a>'\n",
              "            + ' to learn more about interactive tables.';\n",
              "          element.innerHTML = '';\n",
              "          dataTable['output_type'] = 'display_data';\n",
              "          await google.colab.output.renderOutput(dataTable, element);\n",
              "          const docLink = document.createElement('div');\n",
              "          docLink.innerHTML = docLinkHtml;\n",
              "          element.appendChild(docLink);\n",
              "        }\n",
              "      </script>\n",
              "    </div>\n",
              "  </div>\n",
              "  "
            ]
          },
          "metadata": {},
          "execution_count": 58
        }
      ]
    },
    {
      "cell_type": "code",
      "source": [
        "visits.type_visit.value_counts()"
      ],
      "metadata": {
        "colab": {
          "base_uri": "https://localhost:8080/"
        },
        "id": "sUEQ3T8Wr7Up",
        "outputId": "1a5c320e-884b-4af4-de3f-432b3a04c0db"
      },
      "execution_count": 59,
      "outputs": [
        {
          "output_type": "execute_result",
          "data": {
            "text/plain": [
              "Visit    425\n",
              "Name: type_visit, dtype: int64"
            ]
          },
          "metadata": {},
          "execution_count": 59
        }
      ]
    },
    {
      "cell_type": "code",
      "source": [
        "visits.status.value_counts()"
      ],
      "metadata": {
        "colab": {
          "base_uri": "https://localhost:8080/"
        },
        "id": "rTMISxk0u7Gv",
        "outputId": "6f7b562b-ad90-4d90-c4b3-389121232a4b"
      },
      "execution_count": 60,
      "outputs": [
        {
          "output_type": "execute_result",
          "data": {
            "text/plain": [
              "Cancelled    286\n",
              "Done         139\n",
              "Name: status, dtype: int64"
            ]
          },
          "metadata": {},
          "execution_count": 60
        }
      ]
    },
    {
      "cell_type": "markdown",
      "source": [
        "## Cantidad de visitas\n",
        "\n",
        "De la tabla de visitas, se obtiene que la cantidad de visitas ocurridas en el periodo de interés fueron 139 (ya que 286 fueron canceladas)"
      ],
      "metadata": {
        "id": "q5foAvvzsDKN"
      }
    },
    {
      "cell_type": "code",
      "source": [
        "users = pd.read_csv(USERS_DATA)\n",
        "users.head()"
      ],
      "metadata": {
        "colab": {
          "base_uri": "https://localhost:8080/",
          "height": 206
        },
        "id": "XaOoEwx2sPmR",
        "outputId": "fcd8bf06-6ec9-408d-8a88-b5e85c7d63c6"
      },
      "execution_count": 61,
      "outputs": [
        {
          "output_type": "execute_result",
          "data": {
            "text/plain": [
              "   property_id  user_id first_name last_name               address\n",
              "0           31        1  Josephine   Darakjy   4 B Blue Ridge Blvd\n",
              "1           34        2        Art    Venere  8 W Cerritos Ave #54\n",
              "2           48        3      Lenna  Paprocki           639 Main St\n",
              "3           27        4    Donette    Foller          34 Center St\n",
              "4           40        5     Simona   Morasca          3 Mcauley Dr"
            ],
            "text/html": [
              "\n",
              "  <div id=\"df-780f56b1-8831-4802-8112-d35aa1fd242d\">\n",
              "    <div class=\"colab-df-container\">\n",
              "      <div>\n",
              "<style scoped>\n",
              "    .dataframe tbody tr th:only-of-type {\n",
              "        vertical-align: middle;\n",
              "    }\n",
              "\n",
              "    .dataframe tbody tr th {\n",
              "        vertical-align: top;\n",
              "    }\n",
              "\n",
              "    .dataframe thead th {\n",
              "        text-align: right;\n",
              "    }\n",
              "</style>\n",
              "<table border=\"1\" class=\"dataframe\">\n",
              "  <thead>\n",
              "    <tr style=\"text-align: right;\">\n",
              "      <th></th>\n",
              "      <th>property_id</th>\n",
              "      <th>user_id</th>\n",
              "      <th>first_name</th>\n",
              "      <th>last_name</th>\n",
              "      <th>address</th>\n",
              "    </tr>\n",
              "  </thead>\n",
              "  <tbody>\n",
              "    <tr>\n",
              "      <th>0</th>\n",
              "      <td>31</td>\n",
              "      <td>1</td>\n",
              "      <td>Josephine</td>\n",
              "      <td>Darakjy</td>\n",
              "      <td>4 B Blue Ridge Blvd</td>\n",
              "    </tr>\n",
              "    <tr>\n",
              "      <th>1</th>\n",
              "      <td>34</td>\n",
              "      <td>2</td>\n",
              "      <td>Art</td>\n",
              "      <td>Venere</td>\n",
              "      <td>8 W Cerritos Ave #54</td>\n",
              "    </tr>\n",
              "    <tr>\n",
              "      <th>2</th>\n",
              "      <td>48</td>\n",
              "      <td>3</td>\n",
              "      <td>Lenna</td>\n",
              "      <td>Paprocki</td>\n",
              "      <td>639 Main St</td>\n",
              "    </tr>\n",
              "    <tr>\n",
              "      <th>3</th>\n",
              "      <td>27</td>\n",
              "      <td>4</td>\n",
              "      <td>Donette</td>\n",
              "      <td>Foller</td>\n",
              "      <td>34 Center St</td>\n",
              "    </tr>\n",
              "    <tr>\n",
              "      <th>4</th>\n",
              "      <td>40</td>\n",
              "      <td>5</td>\n",
              "      <td>Simona</td>\n",
              "      <td>Morasca</td>\n",
              "      <td>3 Mcauley Dr</td>\n",
              "    </tr>\n",
              "  </tbody>\n",
              "</table>\n",
              "</div>\n",
              "      <button class=\"colab-df-convert\" onclick=\"convertToInteractive('df-780f56b1-8831-4802-8112-d35aa1fd242d')\"\n",
              "              title=\"Convert this dataframe to an interactive table.\"\n",
              "              style=\"display:none;\">\n",
              "        \n",
              "  <svg xmlns=\"http://www.w3.org/2000/svg\" height=\"24px\"viewBox=\"0 0 24 24\"\n",
              "       width=\"24px\">\n",
              "    <path d=\"M0 0h24v24H0V0z\" fill=\"none\"/>\n",
              "    <path d=\"M18.56 5.44l.94 2.06.94-2.06 2.06-.94-2.06-.94-.94-2.06-.94 2.06-2.06.94zm-11 1L8.5 8.5l.94-2.06 2.06-.94-2.06-.94L8.5 2.5l-.94 2.06-2.06.94zm10 10l.94 2.06.94-2.06 2.06-.94-2.06-.94-.94-2.06-.94 2.06-2.06.94z\"/><path d=\"M17.41 7.96l-1.37-1.37c-.4-.4-.92-.59-1.43-.59-.52 0-1.04.2-1.43.59L10.3 9.45l-7.72 7.72c-.78.78-.78 2.05 0 2.83L4 21.41c.39.39.9.59 1.41.59.51 0 1.02-.2 1.41-.59l7.78-7.78 2.81-2.81c.8-.78.8-2.07 0-2.86zM5.41 20L4 18.59l7.72-7.72 1.47 1.35L5.41 20z\"/>\n",
              "  </svg>\n",
              "      </button>\n",
              "      \n",
              "  <style>\n",
              "    .colab-df-container {\n",
              "      display:flex;\n",
              "      flex-wrap:wrap;\n",
              "      gap: 12px;\n",
              "    }\n",
              "\n",
              "    .colab-df-convert {\n",
              "      background-color: #E8F0FE;\n",
              "      border: none;\n",
              "      border-radius: 50%;\n",
              "      cursor: pointer;\n",
              "      display: none;\n",
              "      fill: #1967D2;\n",
              "      height: 32px;\n",
              "      padding: 0 0 0 0;\n",
              "      width: 32px;\n",
              "    }\n",
              "\n",
              "    .colab-df-convert:hover {\n",
              "      background-color: #E2EBFA;\n",
              "      box-shadow: 0px 1px 2px rgba(60, 64, 67, 0.3), 0px 1px 3px 1px rgba(60, 64, 67, 0.15);\n",
              "      fill: #174EA6;\n",
              "    }\n",
              "\n",
              "    [theme=dark] .colab-df-convert {\n",
              "      background-color: #3B4455;\n",
              "      fill: #D2E3FC;\n",
              "    }\n",
              "\n",
              "    [theme=dark] .colab-df-convert:hover {\n",
              "      background-color: #434B5C;\n",
              "      box-shadow: 0px 1px 3px 1px rgba(0, 0, 0, 0.15);\n",
              "      filter: drop-shadow(0px 1px 2px rgba(0, 0, 0, 0.3));\n",
              "      fill: #FFFFFF;\n",
              "    }\n",
              "  </style>\n",
              "\n",
              "      <script>\n",
              "        const buttonEl =\n",
              "          document.querySelector('#df-780f56b1-8831-4802-8112-d35aa1fd242d button.colab-df-convert');\n",
              "        buttonEl.style.display =\n",
              "          google.colab.kernel.accessAllowed ? 'block' : 'none';\n",
              "\n",
              "        async function convertToInteractive(key) {\n",
              "          const element = document.querySelector('#df-780f56b1-8831-4802-8112-d35aa1fd242d');\n",
              "          const dataTable =\n",
              "            await google.colab.kernel.invokeFunction('convertToInteractive',\n",
              "                                                     [key], {});\n",
              "          if (!dataTable) return;\n",
              "\n",
              "          const docLinkHtml = 'Like what you see? Visit the ' +\n",
              "            '<a target=\"_blank\" href=https://colab.research.google.com/notebooks/data_table.ipynb>data table notebook</a>'\n",
              "            + ' to learn more about interactive tables.';\n",
              "          element.innerHTML = '';\n",
              "          dataTable['output_type'] = 'display_data';\n",
              "          await google.colab.output.renderOutput(dataTable, element);\n",
              "          const docLink = document.createElement('div');\n",
              "          docLink.innerHTML = docLinkHtml;\n",
              "          element.appendChild(docLink);\n",
              "        }\n",
              "      </script>\n",
              "    </div>\n",
              "  </div>\n",
              "  "
            ]
          },
          "metadata": {},
          "execution_count": 61
        }
      ]
    },
    {
      "cell_type": "code",
      "source": [
        "users.groupby([\"user_id\"]).size().mean()"
      ],
      "metadata": {
        "colab": {
          "base_uri": "https://localhost:8080/"
        },
        "id": "8IhinmtasbyS",
        "outputId": "e27b109a-859f-494d-9a0f-a49f517acc99"
      },
      "execution_count": 62,
      "outputs": [
        {
          "output_type": "execute_result",
          "data": {
            "text/plain": [
              "1.0"
            ]
          },
          "metadata": {},
          "execution_count": 62
        }
      ]
    },
    {
      "cell_type": "markdown",
      "source": [
        "## Promedio de propiedades por usuario\n",
        "\n",
        "Todos los usuarios de la base de datos entregada tienen una sola propiedad, por lo tanto el promedio de propiedades por usuario es 1."
      ],
      "metadata": {
        "id": "5cycB2gruNod"
      }
    },
    {
      "cell_type": "code",
      "source": [
        "properties = pd.read_csv(PROPERTIES_DATA)\n",
        "properties.head()"
      ],
      "metadata": {
        "colab": {
          "base_uri": "https://localhost:8080/",
          "height": 357
        },
        "id": "v1Igkmh4vocw",
        "outputId": "1af1f630-ad3c-49b1-84f7-fb60cedcb7e2"
      },
      "execution_count": 63,
      "outputs": [
        {
          "output_type": "execute_result",
          "data": {
            "text/plain": [
              "   property_id    type_house  business_type  bedrooms  bathrooms  \\\n",
              "0            1  departamento         Rental         1          1   \n",
              "1            2  departamento  Rental & Sale         1          1   \n",
              "2            3  departamento         Rental         2          2   \n",
              "3            4  departamento  Rental & Sale         3          2   \n",
              "4            5  departamento  Rental & Sale         2          3   \n",
              "\n",
              "   parking_lots  services  balcony   pool  latitude  longitude    localidad  \\\n",
              "0             1       3.0        0  False  4.870956 -74.058040        Chí­A   \n",
              "1             2       NaN        1  False  4.623068 -74.074030  Teusaquillo   \n",
              "2             2       NaN        0  False  4.723909 -74.042336      Usaquen   \n",
              "3             1       0.0        0  False  4.721716 -74.057976         Suba   \n",
              "4             2       0.0        1  False  4.688163 -74.043300      Usaquen   \n",
              "\n",
              "           city                  region   country  \n",
              "0  Cundinamarca  Región De Cundinamarca  Colombia  \n",
              "1        Bogotá  Región De Cundinamarca  Colombia  \n",
              "2        Bogotá  Región De Cundinamarca  Colombia  \n",
              "3        Bogotá  Región De Cundinamarca  Colombia  \n",
              "4        Bogotá  Región De Cundinamarca  Colombia  "
            ],
            "text/html": [
              "\n",
              "  <div id=\"df-ce22e124-d454-4b82-8d70-710b991394b4\">\n",
              "    <div class=\"colab-df-container\">\n",
              "      <div>\n",
              "<style scoped>\n",
              "    .dataframe tbody tr th:only-of-type {\n",
              "        vertical-align: middle;\n",
              "    }\n",
              "\n",
              "    .dataframe tbody tr th {\n",
              "        vertical-align: top;\n",
              "    }\n",
              "\n",
              "    .dataframe thead th {\n",
              "        text-align: right;\n",
              "    }\n",
              "</style>\n",
              "<table border=\"1\" class=\"dataframe\">\n",
              "  <thead>\n",
              "    <tr style=\"text-align: right;\">\n",
              "      <th></th>\n",
              "      <th>property_id</th>\n",
              "      <th>type_house</th>\n",
              "      <th>business_type</th>\n",
              "      <th>bedrooms</th>\n",
              "      <th>bathrooms</th>\n",
              "      <th>parking_lots</th>\n",
              "      <th>services</th>\n",
              "      <th>balcony</th>\n",
              "      <th>pool</th>\n",
              "      <th>latitude</th>\n",
              "      <th>longitude</th>\n",
              "      <th>localidad</th>\n",
              "      <th>city</th>\n",
              "      <th>region</th>\n",
              "      <th>country</th>\n",
              "    </tr>\n",
              "  </thead>\n",
              "  <tbody>\n",
              "    <tr>\n",
              "      <th>0</th>\n",
              "      <td>1</td>\n",
              "      <td>departamento</td>\n",
              "      <td>Rental</td>\n",
              "      <td>1</td>\n",
              "      <td>1</td>\n",
              "      <td>1</td>\n",
              "      <td>3.0</td>\n",
              "      <td>0</td>\n",
              "      <td>False</td>\n",
              "      <td>4.870956</td>\n",
              "      <td>-74.058040</td>\n",
              "      <td>Chí­A</td>\n",
              "      <td>Cundinamarca</td>\n",
              "      <td>Región De Cundinamarca</td>\n",
              "      <td>Colombia</td>\n",
              "    </tr>\n",
              "    <tr>\n",
              "      <th>1</th>\n",
              "      <td>2</td>\n",
              "      <td>departamento</td>\n",
              "      <td>Rental &amp; Sale</td>\n",
              "      <td>1</td>\n",
              "      <td>1</td>\n",
              "      <td>2</td>\n",
              "      <td>NaN</td>\n",
              "      <td>1</td>\n",
              "      <td>False</td>\n",
              "      <td>4.623068</td>\n",
              "      <td>-74.074030</td>\n",
              "      <td>Teusaquillo</td>\n",
              "      <td>Bogotá</td>\n",
              "      <td>Región De Cundinamarca</td>\n",
              "      <td>Colombia</td>\n",
              "    </tr>\n",
              "    <tr>\n",
              "      <th>2</th>\n",
              "      <td>3</td>\n",
              "      <td>departamento</td>\n",
              "      <td>Rental</td>\n",
              "      <td>2</td>\n",
              "      <td>2</td>\n",
              "      <td>2</td>\n",
              "      <td>NaN</td>\n",
              "      <td>0</td>\n",
              "      <td>False</td>\n",
              "      <td>4.723909</td>\n",
              "      <td>-74.042336</td>\n",
              "      <td>Usaquen</td>\n",
              "      <td>Bogotá</td>\n",
              "      <td>Región De Cundinamarca</td>\n",
              "      <td>Colombia</td>\n",
              "    </tr>\n",
              "    <tr>\n",
              "      <th>3</th>\n",
              "      <td>4</td>\n",
              "      <td>departamento</td>\n",
              "      <td>Rental &amp; Sale</td>\n",
              "      <td>3</td>\n",
              "      <td>2</td>\n",
              "      <td>1</td>\n",
              "      <td>0.0</td>\n",
              "      <td>0</td>\n",
              "      <td>False</td>\n",
              "      <td>4.721716</td>\n",
              "      <td>-74.057976</td>\n",
              "      <td>Suba</td>\n",
              "      <td>Bogotá</td>\n",
              "      <td>Región De Cundinamarca</td>\n",
              "      <td>Colombia</td>\n",
              "    </tr>\n",
              "    <tr>\n",
              "      <th>4</th>\n",
              "      <td>5</td>\n",
              "      <td>departamento</td>\n",
              "      <td>Rental &amp; Sale</td>\n",
              "      <td>2</td>\n",
              "      <td>3</td>\n",
              "      <td>2</td>\n",
              "      <td>0.0</td>\n",
              "      <td>1</td>\n",
              "      <td>False</td>\n",
              "      <td>4.688163</td>\n",
              "      <td>-74.043300</td>\n",
              "      <td>Usaquen</td>\n",
              "      <td>Bogotá</td>\n",
              "      <td>Región De Cundinamarca</td>\n",
              "      <td>Colombia</td>\n",
              "    </tr>\n",
              "  </tbody>\n",
              "</table>\n",
              "</div>\n",
              "      <button class=\"colab-df-convert\" onclick=\"convertToInteractive('df-ce22e124-d454-4b82-8d70-710b991394b4')\"\n",
              "              title=\"Convert this dataframe to an interactive table.\"\n",
              "              style=\"display:none;\">\n",
              "        \n",
              "  <svg xmlns=\"http://www.w3.org/2000/svg\" height=\"24px\"viewBox=\"0 0 24 24\"\n",
              "       width=\"24px\">\n",
              "    <path d=\"M0 0h24v24H0V0z\" fill=\"none\"/>\n",
              "    <path d=\"M18.56 5.44l.94 2.06.94-2.06 2.06-.94-2.06-.94-.94-2.06-.94 2.06-2.06.94zm-11 1L8.5 8.5l.94-2.06 2.06-.94-2.06-.94L8.5 2.5l-.94 2.06-2.06.94zm10 10l.94 2.06.94-2.06 2.06-.94-2.06-.94-.94-2.06-.94 2.06-2.06.94z\"/><path d=\"M17.41 7.96l-1.37-1.37c-.4-.4-.92-.59-1.43-.59-.52 0-1.04.2-1.43.59L10.3 9.45l-7.72 7.72c-.78.78-.78 2.05 0 2.83L4 21.41c.39.39.9.59 1.41.59.51 0 1.02-.2 1.41-.59l7.78-7.78 2.81-2.81c.8-.78.8-2.07 0-2.86zM5.41 20L4 18.59l7.72-7.72 1.47 1.35L5.41 20z\"/>\n",
              "  </svg>\n",
              "      </button>\n",
              "      \n",
              "  <style>\n",
              "    .colab-df-container {\n",
              "      display:flex;\n",
              "      flex-wrap:wrap;\n",
              "      gap: 12px;\n",
              "    }\n",
              "\n",
              "    .colab-df-convert {\n",
              "      background-color: #E8F0FE;\n",
              "      border: none;\n",
              "      border-radius: 50%;\n",
              "      cursor: pointer;\n",
              "      display: none;\n",
              "      fill: #1967D2;\n",
              "      height: 32px;\n",
              "      padding: 0 0 0 0;\n",
              "      width: 32px;\n",
              "    }\n",
              "\n",
              "    .colab-df-convert:hover {\n",
              "      background-color: #E2EBFA;\n",
              "      box-shadow: 0px 1px 2px rgba(60, 64, 67, 0.3), 0px 1px 3px 1px rgba(60, 64, 67, 0.15);\n",
              "      fill: #174EA6;\n",
              "    }\n",
              "\n",
              "    [theme=dark] .colab-df-convert {\n",
              "      background-color: #3B4455;\n",
              "      fill: #D2E3FC;\n",
              "    }\n",
              "\n",
              "    [theme=dark] .colab-df-convert:hover {\n",
              "      background-color: #434B5C;\n",
              "      box-shadow: 0px 1px 3px 1px rgba(0, 0, 0, 0.15);\n",
              "      filter: drop-shadow(0px 1px 2px rgba(0, 0, 0, 0.3));\n",
              "      fill: #FFFFFF;\n",
              "    }\n",
              "  </style>\n",
              "\n",
              "      <script>\n",
              "        const buttonEl =\n",
              "          document.querySelector('#df-ce22e124-d454-4b82-8d70-710b991394b4 button.colab-df-convert');\n",
              "        buttonEl.style.display =\n",
              "          google.colab.kernel.accessAllowed ? 'block' : 'none';\n",
              "\n",
              "        async function convertToInteractive(key) {\n",
              "          const element = document.querySelector('#df-ce22e124-d454-4b82-8d70-710b991394b4');\n",
              "          const dataTable =\n",
              "            await google.colab.kernel.invokeFunction('convertToInteractive',\n",
              "                                                     [key], {});\n",
              "          if (!dataTable) return;\n",
              "\n",
              "          const docLinkHtml = 'Like what you see? Visit the ' +\n",
              "            '<a target=\"_blank\" href=https://colab.research.google.com/notebooks/data_table.ipynb>data table notebook</a>'\n",
              "            + ' to learn more about interactive tables.';\n",
              "          element.innerHTML = '';\n",
              "          dataTable['output_type'] = 'display_data';\n",
              "          await google.colab.output.renderOutput(dataTable, element);\n",
              "          const docLink = document.createElement('div');\n",
              "          docLink.innerHTML = docLinkHtml;\n",
              "          element.appendChild(docLink);\n",
              "        }\n",
              "      </script>\n",
              "    </div>\n",
              "  </div>\n",
              "  "
            ]
          },
          "metadata": {},
          "execution_count": 63
        }
      ]
    },
    {
      "cell_type": "markdown",
      "source": [
        "# Temperatura promedio de visitas realizadas por usuario con `ID = 2`\n",
        "\n",
        "Con las fuentes de datos entregadas, no queda claro qué es lo que se pregunta. La única forma de relacionar usuarios con visitas es utilizando el ID de la propiedad, y eso asumiendo que todas las relaciones en la tabla `users` representan que el usuario de id `user_id` es dueño de la propiedad `property_id`.\n",
        "\n",
        "Si lo que se pregunta es diferente (que pareciera ser así), el problema está mal formulado y habría que indagar en la fuente de datos para conseguir los datos correctos.\n",
        "\n",
        "Por otro lado, tendría más sentido preguntar sobre las visitas a la propiedad con `id = 2` en base al enunciado al problema. Por lo tanto, como supuesto se toma:\n",
        "\n",
        "*Interesa responder la temperatura promedio de visitas realizadas a la propiedad con `ID = 2`*\n",
        "\n",
        "Habría que esperar que Carlos aclarara los requerimientos para poder resolver el problema de la forma esperada.\n",
        "\n",
        "De cualquier forma, en términos técnicos no cambia la solución (habría que adaptarla a los datos correctos una vez se obtengan)."
      ],
      "metadata": {
        "id": "sMJJKsriw122"
      }
    },
    {
      "cell_type": "code",
      "source": [
        "# Inner Join con datos\n",
        "visits_property_data = pd.merge(visits, properties, on=\"property_id\")\n",
        "visits_property_data.head()"
      ],
      "metadata": {
        "colab": {
          "base_uri": "https://localhost:8080/",
          "height": 473
        },
        "id": "JHe-tilBBE6O",
        "outputId": "1876b8ac-0ad6-49d9-f656-4b1cf7119232"
      },
      "execution_count": 85,
      "outputs": [
        {
          "output_type": "execute_result",
          "data": {
            "text/plain": [
              "   scheduled_id  property_id                 begin_date  \\\n",
              "0        169548            1  2022-01-13T10:00:00-03:00   \n",
              "1        184763            1  2022-01-26T18:00:00-03:00   \n",
              "2        186092            1  2022-01-28T12:00:00-03:00   \n",
              "3        182497            1  2022-01-23T11:00:00-03:00   \n",
              "4        182396            1  2022-01-23T10:00:00-03:00   \n",
              "\n",
              "                    end_date type_visit     status       begin_date_datetime  \\\n",
              "0  2022-01-13T12:00:00-03:00      Visit  Cancelled 2022-01-13 10:00:00-03:00   \n",
              "1  2022-01-26T20:00:00-03:00      Visit  Cancelled 2022-01-26 18:00:00-03:00   \n",
              "2  2022-01-28T14:00:00-03:00      Visit  Cancelled 2022-01-28 12:00:00-03:00   \n",
              "3  2022-01-23T13:00:00-03:00      Visit  Cancelled 2022-01-23 11:00:00-03:00   \n",
              "4  2022-01-23T12:00:00-03:00      Visit  Cancelled 2022-01-23 10:00:00-03:00   \n",
              "\n",
              "          end_date_datetime  day_diff    type_house  ... parking_lots  \\\n",
              "0 2022-01-13 12:00:00-03:00         0  departamento  ...            1   \n",
              "1 2022-01-26 20:00:00-03:00         0  departamento  ...            1   \n",
              "2 2022-01-28 14:00:00-03:00         0  departamento  ...            1   \n",
              "3 2022-01-23 13:00:00-03:00         0  departamento  ...            1   \n",
              "4 2022-01-23 12:00:00-03:00         0  departamento  ...            1   \n",
              "\n",
              "   services  balcony   pool  latitude  longitude  localidad          city  \\\n",
              "0       3.0        0  False  4.870956  -74.05804      Chí­A  Cundinamarca   \n",
              "1       3.0        0  False  4.870956  -74.05804      Chí­A  Cundinamarca   \n",
              "2       3.0        0  False  4.870956  -74.05804      Chí­A  Cundinamarca   \n",
              "3       3.0        0  False  4.870956  -74.05804      Chí­A  Cundinamarca   \n",
              "4       3.0        0  False  4.870956  -74.05804      Chí­A  Cundinamarca   \n",
              "\n",
              "                   region   country  \n",
              "0  Región De Cundinamarca  Colombia  \n",
              "1  Región De Cundinamarca  Colombia  \n",
              "2  Región De Cundinamarca  Colombia  \n",
              "3  Región De Cundinamarca  Colombia  \n",
              "4  Región De Cundinamarca  Colombia  \n",
              "\n",
              "[5 rows x 23 columns]"
            ],
            "text/html": [
              "\n",
              "  <div id=\"df-470fd533-30f6-43f4-9f16-b992c8577323\">\n",
              "    <div class=\"colab-df-container\">\n",
              "      <div>\n",
              "<style scoped>\n",
              "    .dataframe tbody tr th:only-of-type {\n",
              "        vertical-align: middle;\n",
              "    }\n",
              "\n",
              "    .dataframe tbody tr th {\n",
              "        vertical-align: top;\n",
              "    }\n",
              "\n",
              "    .dataframe thead th {\n",
              "        text-align: right;\n",
              "    }\n",
              "</style>\n",
              "<table border=\"1\" class=\"dataframe\">\n",
              "  <thead>\n",
              "    <tr style=\"text-align: right;\">\n",
              "      <th></th>\n",
              "      <th>scheduled_id</th>\n",
              "      <th>property_id</th>\n",
              "      <th>begin_date</th>\n",
              "      <th>end_date</th>\n",
              "      <th>type_visit</th>\n",
              "      <th>status</th>\n",
              "      <th>begin_date_datetime</th>\n",
              "      <th>end_date_datetime</th>\n",
              "      <th>day_diff</th>\n",
              "      <th>type_house</th>\n",
              "      <th>...</th>\n",
              "      <th>parking_lots</th>\n",
              "      <th>services</th>\n",
              "      <th>balcony</th>\n",
              "      <th>pool</th>\n",
              "      <th>latitude</th>\n",
              "      <th>longitude</th>\n",
              "      <th>localidad</th>\n",
              "      <th>city</th>\n",
              "      <th>region</th>\n",
              "      <th>country</th>\n",
              "    </tr>\n",
              "  </thead>\n",
              "  <tbody>\n",
              "    <tr>\n",
              "      <th>0</th>\n",
              "      <td>169548</td>\n",
              "      <td>1</td>\n",
              "      <td>2022-01-13T10:00:00-03:00</td>\n",
              "      <td>2022-01-13T12:00:00-03:00</td>\n",
              "      <td>Visit</td>\n",
              "      <td>Cancelled</td>\n",
              "      <td>2022-01-13 10:00:00-03:00</td>\n",
              "      <td>2022-01-13 12:00:00-03:00</td>\n",
              "      <td>0</td>\n",
              "      <td>departamento</td>\n",
              "      <td>...</td>\n",
              "      <td>1</td>\n",
              "      <td>3.0</td>\n",
              "      <td>0</td>\n",
              "      <td>False</td>\n",
              "      <td>4.870956</td>\n",
              "      <td>-74.05804</td>\n",
              "      <td>Chí­A</td>\n",
              "      <td>Cundinamarca</td>\n",
              "      <td>Región De Cundinamarca</td>\n",
              "      <td>Colombia</td>\n",
              "    </tr>\n",
              "    <tr>\n",
              "      <th>1</th>\n",
              "      <td>184763</td>\n",
              "      <td>1</td>\n",
              "      <td>2022-01-26T18:00:00-03:00</td>\n",
              "      <td>2022-01-26T20:00:00-03:00</td>\n",
              "      <td>Visit</td>\n",
              "      <td>Cancelled</td>\n",
              "      <td>2022-01-26 18:00:00-03:00</td>\n",
              "      <td>2022-01-26 20:00:00-03:00</td>\n",
              "      <td>0</td>\n",
              "      <td>departamento</td>\n",
              "      <td>...</td>\n",
              "      <td>1</td>\n",
              "      <td>3.0</td>\n",
              "      <td>0</td>\n",
              "      <td>False</td>\n",
              "      <td>4.870956</td>\n",
              "      <td>-74.05804</td>\n",
              "      <td>Chí­A</td>\n",
              "      <td>Cundinamarca</td>\n",
              "      <td>Región De Cundinamarca</td>\n",
              "      <td>Colombia</td>\n",
              "    </tr>\n",
              "    <tr>\n",
              "      <th>2</th>\n",
              "      <td>186092</td>\n",
              "      <td>1</td>\n",
              "      <td>2022-01-28T12:00:00-03:00</td>\n",
              "      <td>2022-01-28T14:00:00-03:00</td>\n",
              "      <td>Visit</td>\n",
              "      <td>Cancelled</td>\n",
              "      <td>2022-01-28 12:00:00-03:00</td>\n",
              "      <td>2022-01-28 14:00:00-03:00</td>\n",
              "      <td>0</td>\n",
              "      <td>departamento</td>\n",
              "      <td>...</td>\n",
              "      <td>1</td>\n",
              "      <td>3.0</td>\n",
              "      <td>0</td>\n",
              "      <td>False</td>\n",
              "      <td>4.870956</td>\n",
              "      <td>-74.05804</td>\n",
              "      <td>Chí­A</td>\n",
              "      <td>Cundinamarca</td>\n",
              "      <td>Región De Cundinamarca</td>\n",
              "      <td>Colombia</td>\n",
              "    </tr>\n",
              "    <tr>\n",
              "      <th>3</th>\n",
              "      <td>182497</td>\n",
              "      <td>1</td>\n",
              "      <td>2022-01-23T11:00:00-03:00</td>\n",
              "      <td>2022-01-23T13:00:00-03:00</td>\n",
              "      <td>Visit</td>\n",
              "      <td>Cancelled</td>\n",
              "      <td>2022-01-23 11:00:00-03:00</td>\n",
              "      <td>2022-01-23 13:00:00-03:00</td>\n",
              "      <td>0</td>\n",
              "      <td>departamento</td>\n",
              "      <td>...</td>\n",
              "      <td>1</td>\n",
              "      <td>3.0</td>\n",
              "      <td>0</td>\n",
              "      <td>False</td>\n",
              "      <td>4.870956</td>\n",
              "      <td>-74.05804</td>\n",
              "      <td>Chí­A</td>\n",
              "      <td>Cundinamarca</td>\n",
              "      <td>Región De Cundinamarca</td>\n",
              "      <td>Colombia</td>\n",
              "    </tr>\n",
              "    <tr>\n",
              "      <th>4</th>\n",
              "      <td>182396</td>\n",
              "      <td>1</td>\n",
              "      <td>2022-01-23T10:00:00-03:00</td>\n",
              "      <td>2022-01-23T12:00:00-03:00</td>\n",
              "      <td>Visit</td>\n",
              "      <td>Cancelled</td>\n",
              "      <td>2022-01-23 10:00:00-03:00</td>\n",
              "      <td>2022-01-23 12:00:00-03:00</td>\n",
              "      <td>0</td>\n",
              "      <td>departamento</td>\n",
              "      <td>...</td>\n",
              "      <td>1</td>\n",
              "      <td>3.0</td>\n",
              "      <td>0</td>\n",
              "      <td>False</td>\n",
              "      <td>4.870956</td>\n",
              "      <td>-74.05804</td>\n",
              "      <td>Chí­A</td>\n",
              "      <td>Cundinamarca</td>\n",
              "      <td>Región De Cundinamarca</td>\n",
              "      <td>Colombia</td>\n",
              "    </tr>\n",
              "  </tbody>\n",
              "</table>\n",
              "<p>5 rows × 23 columns</p>\n",
              "</div>\n",
              "      <button class=\"colab-df-convert\" onclick=\"convertToInteractive('df-470fd533-30f6-43f4-9f16-b992c8577323')\"\n",
              "              title=\"Convert this dataframe to an interactive table.\"\n",
              "              style=\"display:none;\">\n",
              "        \n",
              "  <svg xmlns=\"http://www.w3.org/2000/svg\" height=\"24px\"viewBox=\"0 0 24 24\"\n",
              "       width=\"24px\">\n",
              "    <path d=\"M0 0h24v24H0V0z\" fill=\"none\"/>\n",
              "    <path d=\"M18.56 5.44l.94 2.06.94-2.06 2.06-.94-2.06-.94-.94-2.06-.94 2.06-2.06.94zm-11 1L8.5 8.5l.94-2.06 2.06-.94-2.06-.94L8.5 2.5l-.94 2.06-2.06.94zm10 10l.94 2.06.94-2.06 2.06-.94-2.06-.94-.94-2.06-.94 2.06-2.06.94z\"/><path d=\"M17.41 7.96l-1.37-1.37c-.4-.4-.92-.59-1.43-.59-.52 0-1.04.2-1.43.59L10.3 9.45l-7.72 7.72c-.78.78-.78 2.05 0 2.83L4 21.41c.39.39.9.59 1.41.59.51 0 1.02-.2 1.41-.59l7.78-7.78 2.81-2.81c.8-.78.8-2.07 0-2.86zM5.41 20L4 18.59l7.72-7.72 1.47 1.35L5.41 20z\"/>\n",
              "  </svg>\n",
              "      </button>\n",
              "      \n",
              "  <style>\n",
              "    .colab-df-container {\n",
              "      display:flex;\n",
              "      flex-wrap:wrap;\n",
              "      gap: 12px;\n",
              "    }\n",
              "\n",
              "    .colab-df-convert {\n",
              "      background-color: #E8F0FE;\n",
              "      border: none;\n",
              "      border-radius: 50%;\n",
              "      cursor: pointer;\n",
              "      display: none;\n",
              "      fill: #1967D2;\n",
              "      height: 32px;\n",
              "      padding: 0 0 0 0;\n",
              "      width: 32px;\n",
              "    }\n",
              "\n",
              "    .colab-df-convert:hover {\n",
              "      background-color: #E2EBFA;\n",
              "      box-shadow: 0px 1px 2px rgba(60, 64, 67, 0.3), 0px 1px 3px 1px rgba(60, 64, 67, 0.15);\n",
              "      fill: #174EA6;\n",
              "    }\n",
              "\n",
              "    [theme=dark] .colab-df-convert {\n",
              "      background-color: #3B4455;\n",
              "      fill: #D2E3FC;\n",
              "    }\n",
              "\n",
              "    [theme=dark] .colab-df-convert:hover {\n",
              "      background-color: #434B5C;\n",
              "      box-shadow: 0px 1px 3px 1px rgba(0, 0, 0, 0.15);\n",
              "      filter: drop-shadow(0px 1px 2px rgba(0, 0, 0, 0.3));\n",
              "      fill: #FFFFFF;\n",
              "    }\n",
              "  </style>\n",
              "\n",
              "      <script>\n",
              "        const buttonEl =\n",
              "          document.querySelector('#df-470fd533-30f6-43f4-9f16-b992c8577323 button.colab-df-convert');\n",
              "        buttonEl.style.display =\n",
              "          google.colab.kernel.accessAllowed ? 'block' : 'none';\n",
              "\n",
              "        async function convertToInteractive(key) {\n",
              "          const element = document.querySelector('#df-470fd533-30f6-43f4-9f16-b992c8577323');\n",
              "          const dataTable =\n",
              "            await google.colab.kernel.invokeFunction('convertToInteractive',\n",
              "                                                     [key], {});\n",
              "          if (!dataTable) return;\n",
              "\n",
              "          const docLinkHtml = 'Like what you see? Visit the ' +\n",
              "            '<a target=\"_blank\" href=https://colab.research.google.com/notebooks/data_table.ipynb>data table notebook</a>'\n",
              "            + ' to learn more about interactive tables.';\n",
              "          element.innerHTML = '';\n",
              "          dataTable['output_type'] = 'display_data';\n",
              "          await google.colab.output.renderOutput(dataTable, element);\n",
              "          const docLink = document.createElement('div');\n",
              "          docLink.innerHTML = docLinkHtml;\n",
              "          element.appendChild(docLink);\n",
              "        }\n",
              "      </script>\n",
              "    </div>\n",
              "  </div>\n",
              "  "
            ]
          },
          "metadata": {},
          "execution_count": 85
        }
      ]
    },
    {
      "cell_type": "code",
      "source": [
        "from abc import ABC, abstractmethod\n",
        "import requests\n",
        "\n",
        "API_KEY = \"<INSERTAR SU API KEY>\"\n",
        "\n",
        "class VisualCrossingServicesBase:\n",
        "    __base_uri = (\n",
        "        \"https://weather.visualcrossing.com/\"\n",
        "        \"VisualCrossingWebServices/rest/services\")\n",
        "    \n",
        "    key = \"\"\n",
        "\n",
        "    @property\n",
        "    def base_uri(self):\n",
        "        return self.__base_uri\n",
        "\n",
        "    @property\n",
        "    def uri(self):\n",
        "        return f\"{self.base_uri}/{self.key}\"\n",
        "\n",
        "\n",
        "class VisualCrossingServicesTimeline(VisualCrossingServicesBase):\n",
        "    key = \"timeline\"\n",
        "    def __init__(self, api_key):\n",
        "        self.api_key = api_key\n",
        "\n",
        "    def get(self, location, date1, date2):\n",
        "        uri = f\"{self.uri}/{location}/{date1}/{date2}\"\n",
        "        res = requests.get(uri, params={\n",
        "            \"key\": self.api_key,\n",
        "            \"elements\": \"datetime,temp,conditions\",\n",
        "            \"include\": \"days\"\n",
        "        })\n",
        "        res.raise_for_status()\n",
        "        return res.json()\n"
      ],
      "metadata": {
        "id": "fZ1nVmDd8t5p"
      },
      "execution_count": 151,
      "outputs": []
    },
    {
      "cell_type": "code",
      "source": [
        "# Validar que todas las visitas ocurran el mismo día\n",
        "visits[\"begin_date_datetime\"] = pd.to_datetime(visits[\"begin_date\"])\n",
        "visits[\"end_date_datetime\"] = pd.to_datetime(visits[\"end_date\"])\n",
        "visits[\"day_diff\"] = visits.apply(lambda row: (row[\"end_date_datetime\"] - row[\"begin_date_datetime\"]).days, axis=1)\n",
        "visits[\"day_diff\"].describe()"
      ],
      "metadata": {
        "colab": {
          "base_uri": "https://localhost:8080/"
        },
        "id": "9Djx2C5ZaZTa",
        "outputId": "bafb552c-049c-4b71-f139-5a2c4a3c61cc"
      },
      "execution_count": 152,
      "outputs": [
        {
          "output_type": "execute_result",
          "data": {
            "text/plain": [
              "count    425.0\n",
              "mean       0.0\n",
              "std        0.0\n",
              "min        0.0\n",
              "25%        0.0\n",
              "50%        0.0\n",
              "75%        0.0\n",
              "max        0.0\n",
              "Name: day_diff, dtype: float64"
            ]
          },
          "metadata": {},
          "execution_count": 152
        }
      ]
    },
    {
      "cell_type": "code",
      "source": [
        "def get_temperature(row):\n",
        "    timeline = VisualCrossingServicesTimeline(API_KEY)\n",
        "    latitude = row[\"latitude\"]\n",
        "    longitude = row[\"longitude\"]\n",
        "    location = f\"{latitude},{longitude}\"\n",
        "    date1 = row[\"begin_date\"].split(\"T\")[0]\n",
        "    date2 = row[\"end_date\"].split(\"T\")[0]\n",
        "    api_data = timeline.get(location, date1, date2)\n",
        "    print(api_data)\n",
        "    result = pd.Series([api_data[\"days\"][0][\"temp\"], api_data[\"days\"][0][\"conditions\"]])\n",
        "    return result\n",
        "    \n",
        "\n",
        "test_row = visits_property_data.loc[0, :]\n",
        "get_temperature(test_row)"
      ],
      "metadata": {
        "colab": {
          "base_uri": "https://localhost:8080/"
        },
        "id": "yfpYHbYLSzS5",
        "outputId": "cb522bb1-f395-410a-91cb-6e2d56b3dcb5"
      },
      "execution_count": 156,
      "outputs": [
        {
          "output_type": "stream",
          "name": "stdout",
          "text": [
            "{'queryCost': 1, 'latitude': 4.870956, 'longitude': -74.05804, 'resolvedAddress': '4.870956,-74.05804', 'address': '4.870956,-74.05804', 'timezone': 'America/Bogota', 'tzoffset': -5.0, 'days': [{'datetime': '2022-01-13', 'temp': 55.1, 'conditions': 'Rain, Partially cloudy'}]}\n"
          ]
        },
        {
          "output_type": "execute_result",
          "data": {
            "text/plain": [
              "0                      55.1\n",
              "1    Rain, Partially cloudy\n",
              "dtype: object"
            ]
          },
          "metadata": {},
          "execution_count": 156
        }
      ]
    },
    {
      "cell_type": "code",
      "source": [
        "# Supuesto, utilizar property_id en lugar de user_id\n",
        "PROPERTY_ID = 2\n",
        "q1 = visits_property_data[\n",
        "                          (visits_property_data[\"property_id\"] == PROPERTY_ID)\n",
        "                          & (visits_property_data[\"status\"] == \"Done\")]\n",
        "q1[[\"temp\", \"conditions\"]] = q1.apply(get_temperature, axis=1)"
      ],
      "metadata": {
        "colab": {
          "base_uri": "https://localhost:8080/"
        },
        "id": "3mQnaBq1akRz",
        "outputId": "f279a759-4f12-4fcc-ba5e-b0ee0df33972"
      },
      "execution_count": 157,
      "outputs": [
        {
          "output_type": "stream",
          "name": "stdout",
          "text": [
            "{'queryCost': 1, 'latitude': 4.6230683, 'longitude': -74.07403, 'resolvedAddress': '4.6230683,-74.07403', 'address': '4.6230683,-74.07403', 'timezone': 'America/Bogota', 'tzoffset': -5.0, 'days': [{'datetime': '2022-01-20', 'temp': 58.2, 'conditions': 'Rain, Partially cloudy'}]}\n"
          ]
        },
        {
          "output_type": "stream",
          "name": "stderr",
          "text": [
            "/usr/local/lib/python3.7/dist-packages/pandas/core/frame.py:3641: SettingWithCopyWarning: \n",
            "A value is trying to be set on a copy of a slice from a DataFrame.\n",
            "Try using .loc[row_indexer,col_indexer] = value instead\n",
            "\n",
            "See the caveats in the documentation: https://pandas.pydata.org/pandas-docs/stable/user_guide/indexing.html#returning-a-view-versus-a-copy\n",
            "  self[k1] = value[k2]\n"
          ]
        }
      ]
    },
    {
      "cell_type": "code",
      "source": [
        "q1[[\"temp\", \"conditions\"]]"
      ],
      "metadata": {
        "colab": {
          "base_uri": "https://localhost:8080/",
          "height": 81
        },
        "id": "WXaN-MSAa3Be",
        "outputId": "eccf230f-a81b-485c-da26-a8e6f4fc2d3e"
      },
      "execution_count": 158,
      "outputs": [
        {
          "output_type": "execute_result",
          "data": {
            "text/plain": [
              "   temp              conditions\n",
              "9  58.2  Rain, Partially cloudy"
            ],
            "text/html": [
              "\n",
              "  <div id=\"df-24d63598-1352-4ff6-b15e-aa7f4c4cffc5\">\n",
              "    <div class=\"colab-df-container\">\n",
              "      <div>\n",
              "<style scoped>\n",
              "    .dataframe tbody tr th:only-of-type {\n",
              "        vertical-align: middle;\n",
              "    }\n",
              "\n",
              "    .dataframe tbody tr th {\n",
              "        vertical-align: top;\n",
              "    }\n",
              "\n",
              "    .dataframe thead th {\n",
              "        text-align: right;\n",
              "    }\n",
              "</style>\n",
              "<table border=\"1\" class=\"dataframe\">\n",
              "  <thead>\n",
              "    <tr style=\"text-align: right;\">\n",
              "      <th></th>\n",
              "      <th>temp</th>\n",
              "      <th>conditions</th>\n",
              "    </tr>\n",
              "  </thead>\n",
              "  <tbody>\n",
              "    <tr>\n",
              "      <th>9</th>\n",
              "      <td>58.2</td>\n",
              "      <td>Rain, Partially cloudy</td>\n",
              "    </tr>\n",
              "  </tbody>\n",
              "</table>\n",
              "</div>\n",
              "      <button class=\"colab-df-convert\" onclick=\"convertToInteractive('df-24d63598-1352-4ff6-b15e-aa7f4c4cffc5')\"\n",
              "              title=\"Convert this dataframe to an interactive table.\"\n",
              "              style=\"display:none;\">\n",
              "        \n",
              "  <svg xmlns=\"http://www.w3.org/2000/svg\" height=\"24px\"viewBox=\"0 0 24 24\"\n",
              "       width=\"24px\">\n",
              "    <path d=\"M0 0h24v24H0V0z\" fill=\"none\"/>\n",
              "    <path d=\"M18.56 5.44l.94 2.06.94-2.06 2.06-.94-2.06-.94-.94-2.06-.94 2.06-2.06.94zm-11 1L8.5 8.5l.94-2.06 2.06-.94-2.06-.94L8.5 2.5l-.94 2.06-2.06.94zm10 10l.94 2.06.94-2.06 2.06-.94-2.06-.94-.94-2.06-.94 2.06-2.06.94z\"/><path d=\"M17.41 7.96l-1.37-1.37c-.4-.4-.92-.59-1.43-.59-.52 0-1.04.2-1.43.59L10.3 9.45l-7.72 7.72c-.78.78-.78 2.05 0 2.83L4 21.41c.39.39.9.59 1.41.59.51 0 1.02-.2 1.41-.59l7.78-7.78 2.81-2.81c.8-.78.8-2.07 0-2.86zM5.41 20L4 18.59l7.72-7.72 1.47 1.35L5.41 20z\"/>\n",
              "  </svg>\n",
              "      </button>\n",
              "      \n",
              "  <style>\n",
              "    .colab-df-container {\n",
              "      display:flex;\n",
              "      flex-wrap:wrap;\n",
              "      gap: 12px;\n",
              "    }\n",
              "\n",
              "    .colab-df-convert {\n",
              "      background-color: #E8F0FE;\n",
              "      border: none;\n",
              "      border-radius: 50%;\n",
              "      cursor: pointer;\n",
              "      display: none;\n",
              "      fill: #1967D2;\n",
              "      height: 32px;\n",
              "      padding: 0 0 0 0;\n",
              "      width: 32px;\n",
              "    }\n",
              "\n",
              "    .colab-df-convert:hover {\n",
              "      background-color: #E2EBFA;\n",
              "      box-shadow: 0px 1px 2px rgba(60, 64, 67, 0.3), 0px 1px 3px 1px rgba(60, 64, 67, 0.15);\n",
              "      fill: #174EA6;\n",
              "    }\n",
              "\n",
              "    [theme=dark] .colab-df-convert {\n",
              "      background-color: #3B4455;\n",
              "      fill: #D2E3FC;\n",
              "    }\n",
              "\n",
              "    [theme=dark] .colab-df-convert:hover {\n",
              "      background-color: #434B5C;\n",
              "      box-shadow: 0px 1px 3px 1px rgba(0, 0, 0, 0.15);\n",
              "      filter: drop-shadow(0px 1px 2px rgba(0, 0, 0, 0.3));\n",
              "      fill: #FFFFFF;\n",
              "    }\n",
              "  </style>\n",
              "\n",
              "      <script>\n",
              "        const buttonEl =\n",
              "          document.querySelector('#df-24d63598-1352-4ff6-b15e-aa7f4c4cffc5 button.colab-df-convert');\n",
              "        buttonEl.style.display =\n",
              "          google.colab.kernel.accessAllowed ? 'block' : 'none';\n",
              "\n",
              "        async function convertToInteractive(key) {\n",
              "          const element = document.querySelector('#df-24d63598-1352-4ff6-b15e-aa7f4c4cffc5');\n",
              "          const dataTable =\n",
              "            await google.colab.kernel.invokeFunction('convertToInteractive',\n",
              "                                                     [key], {});\n",
              "          if (!dataTable) return;\n",
              "\n",
              "          const docLinkHtml = 'Like what you see? Visit the ' +\n",
              "            '<a target=\"_blank\" href=https://colab.research.google.com/notebooks/data_table.ipynb>data table notebook</a>'\n",
              "            + ' to learn more about interactive tables.';\n",
              "          element.innerHTML = '';\n",
              "          dataTable['output_type'] = 'display_data';\n",
              "          await google.colab.output.renderOutput(dataTable, element);\n",
              "          const docLink = document.createElement('div');\n",
              "          docLink.innerHTML = docLinkHtml;\n",
              "          element.appendChild(docLink);\n",
              "        }\n",
              "      </script>\n",
              "    </div>\n",
              "  </div>\n",
              "  "
            ]
          },
          "metadata": {},
          "execution_count": 158
        }
      ]
    },
    {
      "cell_type": "markdown",
      "source": [
        "## Query 1: Temperatura "
      ],
      "metadata": {
        "id": "hSpnvcvEdxRU"
      }
    },
    {
      "cell_type": "markdown",
      "source": [
        "La temperatura promedio para `property_id = 2` fue de 58.2 ºF"
      ],
      "metadata": {
        "id": "PJEGt5IMdrul"
      }
    },
    {
      "cell_type": "code",
      "source": [
        "visits_property_data.shape"
      ],
      "metadata": {
        "colab": {
          "base_uri": "https://localhost:8080/"
        },
        "id": "Za7v5xkqd_8Y",
        "outputId": "c730dc26-b2c6-4b62-854b-61ed116e43f1"
      },
      "execution_count": 118,
      "outputs": [
        {
          "output_type": "execute_result",
          "data": {
            "text/plain": [
              "(425, 23)"
            ]
          },
          "metadata": {},
          "execution_count": 118
        }
      ]
    },
    {
      "cell_type": "code",
      "source": [
        "visits_property_data.info()"
      ],
      "metadata": {
        "colab": {
          "base_uri": "https://localhost:8080/"
        },
        "id": "DJsdE3j0edOm",
        "outputId": "e2eb720a-47ec-457e-f628-cc09eddd2463"
      },
      "execution_count": 125,
      "outputs": [
        {
          "output_type": "execute_result",
          "data": {
            "text/plain": [
              "array(['Cundinamarca', 'Bogotá'], dtype=object)"
            ]
          },
          "metadata": {},
          "execution_count": 125
        }
      ]
    },
    {
      "cell_type": "code",
      "source": [
        "properties.country.unique()"
      ],
      "metadata": {
        "colab": {
          "base_uri": "https://localhost:8080/"
        },
        "id": "KSY05Aolg09O",
        "outputId": "e5fd1efa-9c8b-4b04-f14d-2f01347498a9"
      },
      "execution_count": 126,
      "outputs": [
        {
          "output_type": "execute_result",
          "data": {
            "text/plain": [
              "array(['Colombia'], dtype=object)"
            ]
          },
          "metadata": {},
          "execution_count": 126
        }
      ]
    },
    {
      "cell_type": "markdown",
      "source": [
        "## Optimización\n",
        "\n",
        "Para reducir el costo de la query a la API, consideramos la cantidad de ciudades y países en el conjunto de datos, y como las visitas duran un día, tomamos el supuesto en que las condiciones climáticas no cambiarán demasiado dentro de la visita (en algunos casos podría ser, pero la intuición dice que no es tan probable). Entonces reduciremos de 425 consultas a sólo 2."
      ],
      "metadata": {
        "id": "cQu9TlZgn_MA"
      }
    },
    {
      "cell_type": "code",
      "source": [
        "mask = visits_property_data.city == \"Cundinamarca\"\n",
        "min_date = visits_property_data[mask].begin_date_datetime.min().strftime(\"%Y-%m-%d\")\n",
        "max_date = visits_property_data[mask].begin_date_datetime.max().strftime(\"%Y-%m-%d\")\n",
        "\n",
        "query = (\"Cundinamarca,Colombia\", min_date, max_date)\n",
        "print(min_date, \"/\", max_date)"
      ],
      "metadata": {
        "colab": {
          "base_uri": "https://localhost:8080/"
        },
        "id": "LFEy7vC_kTg2",
        "outputId": "6ac2be62-c1e8-4368-d019-c413a2cc8003"
      },
      "execution_count": 172,
      "outputs": [
        {
          "output_type": "stream",
          "name": "stdout",
          "text": [
            "2022-01-03 / 2022-02-28\n"
          ]
        }
      ]
    },
    {
      "cell_type": "code",
      "source": [
        "timeline = VisualCrossingServicesTimeline(API_KEY)\n",
        "res1 = timeline.get(*query)"
      ],
      "metadata": {
        "id": "fJvxfFAbneOG"
      },
      "execution_count": 173,
      "outputs": []
    },
    {
      "cell_type": "code",
      "source": [
        "index = {}\n",
        "address = res1[\"address\"]\n",
        "index[address] = {}\n",
        "for day in res1[\"days\"]:\n",
        "    index[address][day[\"datetime\"]] = {\n",
        "        \"conditions\": day[\"conditions\"],\n",
        "        \"temp\": day[\"temp\"]\n",
        "    }"
      ],
      "metadata": {
        "id": "11CN88sXnnPS"
      },
      "execution_count": 174,
      "outputs": []
    },
    {
      "cell_type": "code",
      "source": [
        "mask = visits_property_data.city == \"Bogotá\"\n",
        "min_date = visits_property_data[mask].begin_date_datetime.min().strftime(\"%Y-%m-%d\")\n",
        "max_date = visits_property_data[mask].begin_date_datetime.max().strftime(\"%Y-%m-%d\")\n",
        "\n",
        "query = (\"Bogotá,Colombia\", min_date, max_date)\n",
        "print(min_date, \"/\", max_date)"
      ],
      "metadata": {
        "colab": {
          "base_uri": "https://localhost:8080/"
        },
        "id": "vAZS3nrppIVc",
        "outputId": "4bbd9752-0d57-4fa5-b298-a92f36651ce9"
      },
      "execution_count": 175,
      "outputs": [
        {
          "output_type": "stream",
          "name": "stdout",
          "text": [
            "2022-01-01 / 2022-02-28\n"
          ]
        }
      ]
    },
    {
      "cell_type": "code",
      "source": [
        "res2 = timeline.get(*query)"
      ],
      "metadata": {
        "id": "41ijNsj4pXEG"
      },
      "execution_count": 176,
      "outputs": []
    },
    {
      "cell_type": "code",
      "source": [
        "address = res2[\"address\"]\n",
        "index[address] = {}\n",
        "for day in res2[\"days\"]:\n",
        "    index[address][day[\"datetime\"]] = {\n",
        "        \"conditions\": day[\"conditions\"],\n",
        "        \"temp\": day[\"temp\"]\n",
        "    }"
      ],
      "metadata": {
        "id": "Y4pfa6tQpZDu"
      },
      "execution_count": 177,
      "outputs": []
    },
    {
      "cell_type": "code",
      "source": [
        "def get_weather_features(row):\n",
        "    key = f\"{row.city},{row.country}\"\n",
        "    date = row.begin_date_datetime.strftime(\"%Y-%m-%d\")\n",
        "\n",
        "    result = index[key][date]\n",
        "    return pd.Series([result[\"temp\"], result[\"conditions\"]])"
      ],
      "metadata": {
        "id": "dd-0wrX0pcKw"
      },
      "execution_count": 179,
      "outputs": []
    },
    {
      "cell_type": "code",
      "source": [
        "visits_property_data[[\"temp\", \"conditions\"]] = visits_property_data.apply(\n",
        "    get_weather_features, axis=1)\n",
        "\n",
        "visits_property_data.head()"
      ],
      "metadata": {
        "colab": {
          "base_uri": "https://localhost:8080/",
          "height": 473
        },
        "id": "TpNKJSFPqNPW",
        "outputId": "63a1b0a1-0b60-4d62-87a9-94e89734b2ee"
      },
      "execution_count": 181,
      "outputs": [
        {
          "output_type": "execute_result",
          "data": {
            "text/plain": [
              "   scheduled_id  property_id                 begin_date  \\\n",
              "0        169548            1  2022-01-13T10:00:00-03:00   \n",
              "1        184763            1  2022-01-26T18:00:00-03:00   \n",
              "2        186092            1  2022-01-28T12:00:00-03:00   \n",
              "3        182497            1  2022-01-23T11:00:00-03:00   \n",
              "4        182396            1  2022-01-23T10:00:00-03:00   \n",
              "\n",
              "                    end_date type_visit     status       begin_date_datetime  \\\n",
              "0  2022-01-13T12:00:00-03:00      Visit  Cancelled 2022-01-13 10:00:00-03:00   \n",
              "1  2022-01-26T20:00:00-03:00      Visit  Cancelled 2022-01-26 18:00:00-03:00   \n",
              "2  2022-01-28T14:00:00-03:00      Visit  Cancelled 2022-01-28 12:00:00-03:00   \n",
              "3  2022-01-23T13:00:00-03:00      Visit  Cancelled 2022-01-23 11:00:00-03:00   \n",
              "4  2022-01-23T12:00:00-03:00      Visit  Cancelled 2022-01-23 10:00:00-03:00   \n",
              "\n",
              "          end_date_datetime  day_diff    type_house  ... balcony   pool  \\\n",
              "0 2022-01-13 12:00:00-03:00         0  departamento  ...       0  False   \n",
              "1 2022-01-26 20:00:00-03:00         0  departamento  ...       0  False   \n",
              "2 2022-01-28 14:00:00-03:00         0  departamento  ...       0  False   \n",
              "3 2022-01-23 13:00:00-03:00         0  departamento  ...       0  False   \n",
              "4 2022-01-23 12:00:00-03:00         0  departamento  ...       0  False   \n",
              "\n",
              "   latitude  longitude  localidad          city                  region  \\\n",
              "0  4.870956  -74.05804      Chí­A  Cundinamarca  Región De Cundinamarca   \n",
              "1  4.870956  -74.05804      Chí­A  Cundinamarca  Región De Cundinamarca   \n",
              "2  4.870956  -74.05804      Chí­A  Cundinamarca  Región De Cundinamarca   \n",
              "3  4.870956  -74.05804      Chí­A  Cundinamarca  Región De Cundinamarca   \n",
              "4  4.870956  -74.05804      Chí­A  Cundinamarca  Región De Cundinamarca   \n",
              "\n",
              "    country  temp              conditions  \n",
              "0  Colombia  55.1  Rain, Partially cloudy  \n",
              "1  Colombia  58.9  Rain, Partially cloudy  \n",
              "2  Colombia  58.1  Rain, Partially cloudy  \n",
              "3  Colombia  59.0  Rain, Partially cloudy  \n",
              "4  Colombia  59.0  Rain, Partially cloudy  \n",
              "\n",
              "[5 rows x 25 columns]"
            ],
            "text/html": [
              "\n",
              "  <div id=\"df-37876c22-62e8-4d0c-8cd2-8b7d701dc1f3\">\n",
              "    <div class=\"colab-df-container\">\n",
              "      <div>\n",
              "<style scoped>\n",
              "    .dataframe tbody tr th:only-of-type {\n",
              "        vertical-align: middle;\n",
              "    }\n",
              "\n",
              "    .dataframe tbody tr th {\n",
              "        vertical-align: top;\n",
              "    }\n",
              "\n",
              "    .dataframe thead th {\n",
              "        text-align: right;\n",
              "    }\n",
              "</style>\n",
              "<table border=\"1\" class=\"dataframe\">\n",
              "  <thead>\n",
              "    <tr style=\"text-align: right;\">\n",
              "      <th></th>\n",
              "      <th>scheduled_id</th>\n",
              "      <th>property_id</th>\n",
              "      <th>begin_date</th>\n",
              "      <th>end_date</th>\n",
              "      <th>type_visit</th>\n",
              "      <th>status</th>\n",
              "      <th>begin_date_datetime</th>\n",
              "      <th>end_date_datetime</th>\n",
              "      <th>day_diff</th>\n",
              "      <th>type_house</th>\n",
              "      <th>...</th>\n",
              "      <th>balcony</th>\n",
              "      <th>pool</th>\n",
              "      <th>latitude</th>\n",
              "      <th>longitude</th>\n",
              "      <th>localidad</th>\n",
              "      <th>city</th>\n",
              "      <th>region</th>\n",
              "      <th>country</th>\n",
              "      <th>temp</th>\n",
              "      <th>conditions</th>\n",
              "    </tr>\n",
              "  </thead>\n",
              "  <tbody>\n",
              "    <tr>\n",
              "      <th>0</th>\n",
              "      <td>169548</td>\n",
              "      <td>1</td>\n",
              "      <td>2022-01-13T10:00:00-03:00</td>\n",
              "      <td>2022-01-13T12:00:00-03:00</td>\n",
              "      <td>Visit</td>\n",
              "      <td>Cancelled</td>\n",
              "      <td>2022-01-13 10:00:00-03:00</td>\n",
              "      <td>2022-01-13 12:00:00-03:00</td>\n",
              "      <td>0</td>\n",
              "      <td>departamento</td>\n",
              "      <td>...</td>\n",
              "      <td>0</td>\n",
              "      <td>False</td>\n",
              "      <td>4.870956</td>\n",
              "      <td>-74.05804</td>\n",
              "      <td>Chí­A</td>\n",
              "      <td>Cundinamarca</td>\n",
              "      <td>Región De Cundinamarca</td>\n",
              "      <td>Colombia</td>\n",
              "      <td>55.1</td>\n",
              "      <td>Rain, Partially cloudy</td>\n",
              "    </tr>\n",
              "    <tr>\n",
              "      <th>1</th>\n",
              "      <td>184763</td>\n",
              "      <td>1</td>\n",
              "      <td>2022-01-26T18:00:00-03:00</td>\n",
              "      <td>2022-01-26T20:00:00-03:00</td>\n",
              "      <td>Visit</td>\n",
              "      <td>Cancelled</td>\n",
              "      <td>2022-01-26 18:00:00-03:00</td>\n",
              "      <td>2022-01-26 20:00:00-03:00</td>\n",
              "      <td>0</td>\n",
              "      <td>departamento</td>\n",
              "      <td>...</td>\n",
              "      <td>0</td>\n",
              "      <td>False</td>\n",
              "      <td>4.870956</td>\n",
              "      <td>-74.05804</td>\n",
              "      <td>Chí­A</td>\n",
              "      <td>Cundinamarca</td>\n",
              "      <td>Región De Cundinamarca</td>\n",
              "      <td>Colombia</td>\n",
              "      <td>58.9</td>\n",
              "      <td>Rain, Partially cloudy</td>\n",
              "    </tr>\n",
              "    <tr>\n",
              "      <th>2</th>\n",
              "      <td>186092</td>\n",
              "      <td>1</td>\n",
              "      <td>2022-01-28T12:00:00-03:00</td>\n",
              "      <td>2022-01-28T14:00:00-03:00</td>\n",
              "      <td>Visit</td>\n",
              "      <td>Cancelled</td>\n",
              "      <td>2022-01-28 12:00:00-03:00</td>\n",
              "      <td>2022-01-28 14:00:00-03:00</td>\n",
              "      <td>0</td>\n",
              "      <td>departamento</td>\n",
              "      <td>...</td>\n",
              "      <td>0</td>\n",
              "      <td>False</td>\n",
              "      <td>4.870956</td>\n",
              "      <td>-74.05804</td>\n",
              "      <td>Chí­A</td>\n",
              "      <td>Cundinamarca</td>\n",
              "      <td>Región De Cundinamarca</td>\n",
              "      <td>Colombia</td>\n",
              "      <td>58.1</td>\n",
              "      <td>Rain, Partially cloudy</td>\n",
              "    </tr>\n",
              "    <tr>\n",
              "      <th>3</th>\n",
              "      <td>182497</td>\n",
              "      <td>1</td>\n",
              "      <td>2022-01-23T11:00:00-03:00</td>\n",
              "      <td>2022-01-23T13:00:00-03:00</td>\n",
              "      <td>Visit</td>\n",
              "      <td>Cancelled</td>\n",
              "      <td>2022-01-23 11:00:00-03:00</td>\n",
              "      <td>2022-01-23 13:00:00-03:00</td>\n",
              "      <td>0</td>\n",
              "      <td>departamento</td>\n",
              "      <td>...</td>\n",
              "      <td>0</td>\n",
              "      <td>False</td>\n",
              "      <td>4.870956</td>\n",
              "      <td>-74.05804</td>\n",
              "      <td>Chí­A</td>\n",
              "      <td>Cundinamarca</td>\n",
              "      <td>Región De Cundinamarca</td>\n",
              "      <td>Colombia</td>\n",
              "      <td>59.0</td>\n",
              "      <td>Rain, Partially cloudy</td>\n",
              "    </tr>\n",
              "    <tr>\n",
              "      <th>4</th>\n",
              "      <td>182396</td>\n",
              "      <td>1</td>\n",
              "      <td>2022-01-23T10:00:00-03:00</td>\n",
              "      <td>2022-01-23T12:00:00-03:00</td>\n",
              "      <td>Visit</td>\n",
              "      <td>Cancelled</td>\n",
              "      <td>2022-01-23 10:00:00-03:00</td>\n",
              "      <td>2022-01-23 12:00:00-03:00</td>\n",
              "      <td>0</td>\n",
              "      <td>departamento</td>\n",
              "      <td>...</td>\n",
              "      <td>0</td>\n",
              "      <td>False</td>\n",
              "      <td>4.870956</td>\n",
              "      <td>-74.05804</td>\n",
              "      <td>Chí­A</td>\n",
              "      <td>Cundinamarca</td>\n",
              "      <td>Región De Cundinamarca</td>\n",
              "      <td>Colombia</td>\n",
              "      <td>59.0</td>\n",
              "      <td>Rain, Partially cloudy</td>\n",
              "    </tr>\n",
              "  </tbody>\n",
              "</table>\n",
              "<p>5 rows × 25 columns</p>\n",
              "</div>\n",
              "      <button class=\"colab-df-convert\" onclick=\"convertToInteractive('df-37876c22-62e8-4d0c-8cd2-8b7d701dc1f3')\"\n",
              "              title=\"Convert this dataframe to an interactive table.\"\n",
              "              style=\"display:none;\">\n",
              "        \n",
              "  <svg xmlns=\"http://www.w3.org/2000/svg\" height=\"24px\"viewBox=\"0 0 24 24\"\n",
              "       width=\"24px\">\n",
              "    <path d=\"M0 0h24v24H0V0z\" fill=\"none\"/>\n",
              "    <path d=\"M18.56 5.44l.94 2.06.94-2.06 2.06-.94-2.06-.94-.94-2.06-.94 2.06-2.06.94zm-11 1L8.5 8.5l.94-2.06 2.06-.94-2.06-.94L8.5 2.5l-.94 2.06-2.06.94zm10 10l.94 2.06.94-2.06 2.06-.94-2.06-.94-.94-2.06-.94 2.06-2.06.94z\"/><path d=\"M17.41 7.96l-1.37-1.37c-.4-.4-.92-.59-1.43-.59-.52 0-1.04.2-1.43.59L10.3 9.45l-7.72 7.72c-.78.78-.78 2.05 0 2.83L4 21.41c.39.39.9.59 1.41.59.51 0 1.02-.2 1.41-.59l7.78-7.78 2.81-2.81c.8-.78.8-2.07 0-2.86zM5.41 20L4 18.59l7.72-7.72 1.47 1.35L5.41 20z\"/>\n",
              "  </svg>\n",
              "      </button>\n",
              "      \n",
              "  <style>\n",
              "    .colab-df-container {\n",
              "      display:flex;\n",
              "      flex-wrap:wrap;\n",
              "      gap: 12px;\n",
              "    }\n",
              "\n",
              "    .colab-df-convert {\n",
              "      background-color: #E8F0FE;\n",
              "      border: none;\n",
              "      border-radius: 50%;\n",
              "      cursor: pointer;\n",
              "      display: none;\n",
              "      fill: #1967D2;\n",
              "      height: 32px;\n",
              "      padding: 0 0 0 0;\n",
              "      width: 32px;\n",
              "    }\n",
              "\n",
              "    .colab-df-convert:hover {\n",
              "      background-color: #E2EBFA;\n",
              "      box-shadow: 0px 1px 2px rgba(60, 64, 67, 0.3), 0px 1px 3px 1px rgba(60, 64, 67, 0.15);\n",
              "      fill: #174EA6;\n",
              "    }\n",
              "\n",
              "    [theme=dark] .colab-df-convert {\n",
              "      background-color: #3B4455;\n",
              "      fill: #D2E3FC;\n",
              "    }\n",
              "\n",
              "    [theme=dark] .colab-df-convert:hover {\n",
              "      background-color: #434B5C;\n",
              "      box-shadow: 0px 1px 3px 1px rgba(0, 0, 0, 0.15);\n",
              "      filter: drop-shadow(0px 1px 2px rgba(0, 0, 0, 0.3));\n",
              "      fill: #FFFFFF;\n",
              "    }\n",
              "  </style>\n",
              "\n",
              "      <script>\n",
              "        const buttonEl =\n",
              "          document.querySelector('#df-37876c22-62e8-4d0c-8cd2-8b7d701dc1f3 button.colab-df-convert');\n",
              "        buttonEl.style.display =\n",
              "          google.colab.kernel.accessAllowed ? 'block' : 'none';\n",
              "\n",
              "        async function convertToInteractive(key) {\n",
              "          const element = document.querySelector('#df-37876c22-62e8-4d0c-8cd2-8b7d701dc1f3');\n",
              "          const dataTable =\n",
              "            await google.colab.kernel.invokeFunction('convertToInteractive',\n",
              "                                                     [key], {});\n",
              "          if (!dataTable) return;\n",
              "\n",
              "          const docLinkHtml = 'Like what you see? Visit the ' +\n",
              "            '<a target=\"_blank\" href=https://colab.research.google.com/notebooks/data_table.ipynb>data table notebook</a>'\n",
              "            + ' to learn more about interactive tables.';\n",
              "          element.innerHTML = '';\n",
              "          dataTable['output_type'] = 'display_data';\n",
              "          await google.colab.output.renderOutput(dataTable, element);\n",
              "          const docLink = document.createElement('div');\n",
              "          docLink.innerHTML = docLinkHtml;\n",
              "          element.appendChild(docLink);\n",
              "        }\n",
              "      </script>\n",
              "    </div>\n",
              "  </div>\n",
              "  "
            ]
          },
          "metadata": {},
          "execution_count": 181
        }
      ]
    },
    {
      "cell_type": "markdown",
      "source": [
        "## Temperatura promedio para los días con lluvia\n",
        "\n",
        "Se asume que si llovió, independiente del tipo de lluvia, se considerará lluvia. Por otro lado, sólo se consideran visitas que no fueron canceladas"
      ],
      "metadata": {
        "id": "PIS3yXtcrXrn"
      }
    },
    {
      "cell_type": "markdown",
      "source": [
        ""
      ],
      "metadata": {
        "id": "eNcNzWqSqigZ"
      }
    },
    {
      "cell_type": "code",
      "source": [
        "mask = (visits_property_data.conditions.str.match(\"rain\", case=False)\n",
        "        & (visits_property_data.status == \"Done\"))\n",
        "\n",
        "visits_property_data[mask].temp.mean()"
      ],
      "metadata": {
        "colab": {
          "base_uri": "https://localhost:8080/"
        },
        "id": "wl_thEmtqYI9",
        "outputId": "0669535f-46ec-43a0-cc85-6109bb60cd7a"
      },
      "execution_count": 187,
      "outputs": [
        {
          "output_type": "execute_result",
          "data": {
            "text/plain": [
              "57.76803278688521"
            ]
          },
          "metadata": {},
          "execution_count": 187
        }
      ]
    },
    {
      "cell_type": "markdown",
      "source": [
        "La temperatura promedio en los días de lluvia fue 57.8 ºF\n",
        "\n",
        "## Temperatura promedio para visitas en Suba\n",
        "\n",
        "En los datos no está el campo `locality`, por lo que habría que contactar a Carlos para saber si está correcto lo que dice. Por otro lado, se puede estimar haciendo una query a la API, considerando las mismas fechas que alguna de las consultas anteriores. Como suba queda en Bogotá un estimado grueso sería la temperatura media en bogotá."
      ],
      "metadata": {
        "id": "MHweq62YrlhT"
      }
    },
    {
      "cell_type": "code",
      "source": [
        "mask = ((visits_property_data.city == \"Bogotá\")\n",
        "        & (visits_property_data.status == \"Done\"))\n",
        "visits_property_data[mask].temp.mean()"
      ],
      "metadata": {
        "colab": {
          "base_uri": "https://localhost:8080/"
        },
        "id": "HMkG1lgFrx3A",
        "outputId": "07ee28c1-df81-4aa3-f41a-fb3725d40528"
      },
      "execution_count": 192,
      "outputs": [
        {
          "output_type": "execute_result",
          "data": {
            "text/plain": [
              "57.733050847457605"
            ]
          },
          "metadata": {},
          "execution_count": 192
        }
      ]
    },
    {
      "cell_type": "markdown",
      "source": [
        "Se obtiene que la temperatura media estimada para la localidad de Suba, sería de 57.7 ºF."
      ],
      "metadata": {
        "id": "iXILv90Gsk4I"
      }
    },
    {
      "cell_type": "markdown",
      "source": [
        ""
      ],
      "metadata": {
        "id": "llhG-Ph7rpM3"
      }
    }
  ]
}